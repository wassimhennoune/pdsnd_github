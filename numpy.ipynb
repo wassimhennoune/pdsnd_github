{
 "cells": [
  {
   "cell_type": "code",
   "execution_count": 105,
   "metadata": {},
   "outputs": [],
   "source": [
    "import pandas as pd\n",
    "from datetime import datetime\n",
    "import time"
   ]
  },
  {
   "cell_type": "code",
   "execution_count": 106,
   "metadata": {},
   "outputs": [],
   "source": [
    "CITY_DATA = { 'chicago': 'chicago.csv',\n",
    "              'new york city': 'new_york_city.csv',\n",
    "              'washington': 'washington.csv' }"
   ]
  },
  {
   "cell_type": "code",
   "execution_count": 107,
   "metadata": {},
   "outputs": [],
   "source": [
    "def load_data(city, month, day):\n",
    "    \"\"\"\n",
    "    Loads data for the specified city and filters by month and day if applicable.\n",
    "\n",
    "    Args:\n",
    "        (str) city - name of the city to analyze\n",
    "        (int/str) month - number of the month to filter by, or \"all\" to apply no month filter\n",
    "        (str) day - name of the day of week to filter by, or \"all\" to apply no day filter\n",
    "    Returns:\n",
    "        df - pandas DataFrame containing city data filtered by month and day\n",
    "    \"\"\"\n",
    "    CITY_DATA = { 'chicago': 'chicago.csv',\n",
    "              'new york city': 'new_york_city.csv',\n",
    "              'washington': 'washington.csv' }\n",
    "    # load data file into a dataframe\n",
    "    df = pd.read_csv(CITY_DATA[city])\n",
    "\n",
    "    # convert the Start Time column to datetime\n",
    "    df['Start Time'] = pd.to_datetime(df[\"Start Time\"])\n",
    "\n",
    "    # extract month and day of week from Start Time to create new columns\n",
    "    df['month'] = df[\"Start Time\"].dt.month\n",
    "    df['day_of_week'] = df[\"Start Time\"].dt.weekday_name\n",
    "\n",
    "\n",
    "    # filter by month if applicable\n",
    "    if month != 'all':\n",
    "        # filter by month to create the new dataframe\n",
    "        df = df[df['month'] == month]\n",
    "\n",
    "    # filter by day of week if applicable\n",
    "    if day != 'all':\n",
    "        # filter by day of week to create the new dataframe\n",
    "        df = df[df[\"day_of_week\"] == day.title()]\n",
    "    \n",
    "    return df"
   ]
  },
  {
   "cell_type": "code",
   "execution_count": 6,
   "metadata": {},
   "outputs": [],
   "source": [
    "def get_filters():\n",
    "    \"\"\"\n",
    "    Asks user to specify a city, month, and day to analyze.\n",
    "\n",
    "    Returns:\n",
    "        (str) city - name of the city to analyze\n",
    "        (int/str) month - number of the month to filter by, or \"all\" to apply no month filter\n",
    "        (str) day - name of the day of week to filter by, or \"all\" to apply no day filter\n",
    "    \"\"\"\n",
    "    print('Hello! Let\\'s explore some US bikeshare data!')\n",
    "    # TO DO: get user input for city (chicago, new york city, washington). HINT: Use a while loop to handle invalid inputs\n",
    "    while True :\n",
    "        city = input(\"choose the city : \\n 1 - chicago \\n 2 - new york city \\n 3- washington\").lower()\n",
    "        if city in CITY_DATA: \n",
    "            break;\n",
    "        else : print(\"ERROR : invalid city name!!\\n\" + 40 * \"-\" )\n",
    "\n",
    "    # TO DO: get user input for month (all, january, february, ... , june)\n",
    "    while True :\n",
    "        month = input(\"Enter the name of the  month (all, january, february, ... , june):\").lower()\n",
    "        if month == \"all\":  \n",
    "            break\n",
    "        else:\n",
    "            try : \n",
    "                month = datetime.strptime(month, '%B').month\n",
    "                break;\n",
    "            except : \n",
    "                    print(\"ERROR : invalid month name!!\\n\" + 40 * \"-\" )\n",
    "    # TO DO: get user input for day of week (all, monday, tuesday, ... sunday)\n",
    "    while True :\n",
    "        day = input(\"Enter the name of the  week (all, monday, tuesday, ... sunday):\").lower()\n",
    "        if day == \"all\":  \n",
    "            break\n",
    "        else: \n",
    "            try : \n",
    "                datetime.strptime(day, '%A')\n",
    "                break;\n",
    "            except : \n",
    "                print(\"ERROR : invalid week day name!!\\n\" + 40 * \"-\" )\n",
    "\n",
    "    print('-'*40)\n",
    "    return city, month, day"
   ]
  },
  {
   "cell_type": "code",
   "execution_count": 7,
   "metadata": {},
   "outputs": [
    {
     "name": "stdout",
     "output_type": "stream",
     "text": [
      "Hello! Let's explore some US bikeshare data!\n",
      "choose the city : \n",
      " 1 - chicago \n",
      " 2 - new york city \n",
      " 3- washingtonchicago\n",
      "Enter the name of the  month (all, january, february, ... , june):all\n",
      "Enter the name of the  week (all, monday, tuesday, ... sunday):amm\n",
      "ERROR : invalid week day name!!\n",
      "----------------------------------------\n",
      "Enter the name of the  week (all, monday, tuesday, ... sunday):all\n",
      "----------------------------------------\n"
     ]
    }
   ],
   "source": [
    "city , month , week = get_filters()\n"
   ]
  },
  {
   "cell_type": "code",
   "execution_count": 108,
   "metadata": {},
   "outputs": [],
   "source": [
    "df = load_data(\"washington\",3,\"saturday\")"
   ]
  },
  {
   "cell_type": "code",
   "execution_count": 111,
   "metadata": {},
   "outputs": [],
   "source": [
    "def time_stats(df):\n",
    "    \"\"\"Displays statistics on the most frequent times of travel.\"\"\"\n",
    "    print(\"\\n\\n\"+ 100 * '-')\n",
    "    print('\\nCalculating The Most Frequent Times of Travel...\\n')\n",
    "    start_time = time.time()\n",
    "\n",
    "    # TO DO: display the most common month\n",
    "    df[\"time_stats\"]=  df['Start Time'].dt.month\n",
    "    print(\"the most common month for travelling is           : %s \"%df[\"time_stats\"].mode()[0])\n",
    "     # TO DO: display the most common day of week\n",
    "    df[\"time_stats\"]=  df['Start Time'].dt.day\n",
    "    print(\"the most common day of the week for travelling is : %s \"%df[\"time_stats\"].mode()[0])\n",
    "    # TO DO: display the most common start hour\n",
    "    df[\"time_stats\"]=  df['Start Time'].dt.hour\n",
    "    print(\"the most common start hour for travelling is      : %s \"%df[\"time_stats\"].mode()[0])\n",
    "\n",
    "    print(\"\\nThis took %s seconds.\" % (time.time() - start_time))\n",
    "    print('-'*100)"
   ]
  },
  {
   "cell_type": "code",
   "execution_count": 112,
   "metadata": {
    "scrolled": true
   },
   "outputs": [
    {
     "name": "stdout",
     "output_type": "stream",
     "text": [
      "\n",
      "\n",
      "----------------------------------------------------------------------------------------------------\n",
      "\n",
      "Calculating The Most Frequent Times of Travel...\n",
      "\n",
      "the most common month for travelling is           : 3 \n",
      "the most common day of the week for travelling is : 25 \n",
      "the most common start hour for travelling is      : 14 \n",
      "\n",
      "This took 0.008783102035522461 seconds.\n",
      "----------------------------------------------------------------------------------------------------\n"
     ]
    }
   ],
   "source": [
    "time_stats(df)"
   ]
  },
  {
   "cell_type": "code",
   "execution_count": 8,
   "metadata": {},
   "outputs": [
    {
     "data": {
      "text/plain": [
       "count                        2113\n",
       "unique                        395\n",
       "top       Streeter Dr & Grand Ave\n",
       "freq                           31\n",
       "Name: Start Station, dtype: object"
      ]
     },
     "execution_count": 8,
     "metadata": {},
     "output_type": "execute_result"
    }
   ],
   "source": [
    "df[\"Start Station\"].describe()"
   ]
  },
  {
   "cell_type": "code",
   "execution_count": 103,
   "metadata": {},
   "outputs": [],
   "source": [
    "def station_stats(df):\n",
    "    \"\"\"Displays statistics on the most popular stations and trip.\"\"\"\n",
    "    print(\"\\n\\n\"+ 100 * '-')\n",
    "    print('\\nCalculating The Most Popular Stations and Trip...\\n')\n",
    "    start_time = time.time()\n",
    "\n",
    "    # TO DO: display most commonly used start station\n",
    "    print(\"the most commonly used start station         : %s \"%df[\"Start Station\"].mode()[0])\n",
    "\n",
    "\n",
    "    # TO DO: display most commonly used end station\n",
    "    print(\"the most commonly used end station           : %s \"%df[\"End Station\"].mode()[0])\n",
    "\n",
    "    # TO DO: display most frequent combination of start station and end station trip\n",
    "    print(\"\\nthe most most frequent combination of start station and end station trip:\")\n",
    "    result = df[[\"Start Station\",\"End Station\"]].groupby(['Start Station', 'End Station']).size().nlargest(1)\n",
    "    print(\"Start Station  : %s\"%result.index[0][0])\n",
    "    print(\"End   Station  : %s\"%result.index[0][1])\n",
    "    print(\"Count of trips : %s\"%result.values[0])\n",
    "\n",
    "    print(\"\\nThis took %s seconds.\" % (time.time() - start_time))\n",
    "    print('-'*100)"
   ]
  },
  {
   "cell_type": "code",
   "execution_count": 113,
   "metadata": {},
   "outputs": [
    {
     "name": "stdout",
     "output_type": "stream",
     "text": [
      "\n",
      "\n",
      "----------------------------------------------------------------------------------------------------\n",
      "\n",
      "Calculating The Most Popular Stations and Trip...\n",
      "\n",
      "the most commonly used start station         : Jefferson Dr & 14th St SW \n",
      "the most commonly used end station           : Jefferson Dr & 14th St SW \n",
      "\n",
      "the most most frequent combination of start station and end station trip:\n",
      "Start Station  : Jefferson Memorial\n",
      "End   Station  : Jefferson Memorial\n",
      "Count of trips : 21\n",
      "\n",
      "This took 0.015615463256835938 seconds.\n",
      "----------------------------------------\n"
     ]
    }
   ],
   "source": [
    "station_stats(df)"
   ]
  },
  {
   "cell_type": "code",
   "execution_count": 98,
   "metadata": {
    "scrolled": true
   },
   "outputs": [
    {
     "data": {
      "text/plain": [
       "7"
      ]
     },
     "execution_count": 98,
     "metadata": {},
     "output_type": "execute_result"
    }
   ],
   "source": []
  },
  {
   "cell_type": "code",
   "execution_count": 12,
   "metadata": {},
   "outputs": [
    {
     "data": {
      "text/plain": [
       "Index(['Unnamed: 0', 'Start Time', 'End Time', 'Trip Duration',\n",
       "       'Start Station', 'End Station', 'User Type', 'Gender', 'Birth Year',\n",
       "       'month', 'day_of_week', 'time_stats'],\n",
       "      dtype='object')"
      ]
     },
     "execution_count": 12,
     "metadata": {},
     "output_type": "execute_result"
    }
   ],
   "source": [
    "df.columns"
   ]
  },
  {
   "cell_type": "code",
   "execution_count": 13,
   "metadata": {},
   "outputs": [],
   "source": [
    "def trip_duration_stats(df):\n",
    "    \"\"\"Displays statistics on the total and average trip duration.\"\"\"\n",
    "    print(\"\\n\\n\"+ 100 * '-')\n",
    "    print('\\nCalculating Trip Duration...\\n')\n",
    "    start_time = time.time()\n",
    "\n",
    "    # TO DO: display total travel time\n",
    "    print(\"the total travel time : %s \"%sum(df[\"Trip Duration\"]))\n",
    "\n",
    "    # TO DO: display mean travel time\n",
    "    print(\"the mean travel time  : %s \"%df[\"Trip Duration\"].mean())\n",
    "\n",
    "    print(\"\\nThis took %s seconds.\" % (time.time() - start_time))\n",
    "    print('-'*100)\n"
   ]
  },
  {
   "cell_type": "code",
   "execution_count": 14,
   "metadata": {},
   "outputs": [
    {
     "name": "stdout",
     "output_type": "stream",
     "text": [
      "\n",
      "Calculating Trip Duration...\n",
      "\n",
      "the total travel time : 1644923 \n",
      "the mean travel time  : 778.4775201135826 \n",
      "\n",
      "This took 0.0009741783142089844 seconds.\n",
      "----------------------------------------\n"
     ]
    }
   ],
   "source": [
    "trip_duration_stats(df)"
   ]
  },
  {
   "cell_type": "code",
   "execution_count": 49,
   "metadata": {},
   "outputs": [
    {
     "name": "stdout",
     "output_type": "stream",
     "text": [
      "Subscriber 1826\n",
      "Customer 287\n"
     ]
    }
   ],
   "source": [
    "user = df[\"User Type\"].value_counts()\n",
    "for index,value in user.items(): \n",
    "    print(index,value)"
   ]
  },
  {
   "cell_type": "code",
   "execution_count": 124,
   "metadata": {},
   "outputs": [],
   "source": [
    "def user_stats(df):\n",
    "    \"\"\"Displays statistics on bikeshare users.\"\"\"\n",
    "    print(\"\\n\\n\"+ 100 * '-')\n",
    "    print('Calculating User Stats...\\n')\n",
    "    start_time = time.time()\n",
    "\n",
    "    # TO DO: Display counts of user types\n",
    "    userTypes = df[\"User Type\"].value_counts()\n",
    "    print(\"\\nthe count of user types : %s different user Types \"%len(userTypes))\n",
    "    for index, value in userTypes.items():\n",
    "        print(\"   -   user Type :  {:10s}   ---- count : {:d}\".format(index,value))\n",
    "\n",
    "    # TO DO: Display counts of gender\n",
    "    try:\n",
    "        gender = df[\"Gender\"].value_counts()\n",
    "        print(\"\\nthe count of Gender  : %s different Gender Types \"%len(userTypes))\n",
    "        for index, value in gender.items():\n",
    "            print(\"   -   Gender    :  {:10s}   ---- count : {:d}\".format(index,value))\n",
    "\n",
    "        # TO DO: Display earliest, most recent, and most common year of birth\n",
    "        print(\"\\nthe earliest    year of birth  : %s\"%df[\"Birth Year\"].min())\n",
    "        print(\"the most recent year of birth  : %s\"%df[\"Birth Year\"].max())\n",
    "        print(\"the most common year of birth  : %s\"%df[\"Birth Year\"].mode()[0])\n",
    "    except : \n",
    "        print(\"\\n\\nERROR : can not calculate statics for Birth year and Gender for this city!!\\n\" )\n",
    "    print(\"\\nThis took %s seconds.\" % (time.time() - start_time))\n",
    "    print('-'*100)\n"
   ]
  },
  {
   "cell_type": "code",
   "execution_count": 125,
   "metadata": {
    "scrolled": true
   },
   "outputs": [
    {
     "name": "stdout",
     "output_type": "stream",
     "text": [
      "\n",
      "\n",
      "----------------------------------------------------------------------------------------------------\n",
      "Calculating User Stats...\n",
      "\n",
      "\n",
      "the count of user types : 2 different user Types \n",
      "   -   user Type :  Subscriber   ---- count : 3300\n",
      "   -   user Type :  Customer     ---- count : 2644\n",
      "\n",
      "\n",
      "ERROR : can not calculate statics for Birth year and Gender for this city!!\n",
      "\n",
      "\n",
      "This took 0.0019526481628417969 seconds.\n",
      "----------------------------------------------------------------------------------------------------\n"
     ]
    }
   ],
   "source": [
    "user_stats(df)"
   ]
  },
  {
   "cell_type": "code",
   "execution_count": 115,
   "metadata": {},
   "outputs": [
    {
     "data": {
      "text/plain": [
       "Index(['Unnamed: 0', 'Start Time', 'End Time', 'Trip Duration',\n",
       "       'Start Station', 'End Station', 'User Type', 'month', 'day_of_week',\n",
       "       'time_stats'],\n",
       "      dtype='object')"
      ]
     },
     "execution_count": 115,
     "metadata": {},
     "output_type": "execute_result"
    }
   ],
   "source": [
    "df.columns"
   ]
  }
 ],
 "metadata": {
  "kernelspec": {
   "display_name": "Python 3",
   "language": "python",
   "name": "python3"
  },
  "language_info": {
   "codemirror_mode": {
    "name": "ipython",
    "version": 3
   },
   "file_extension": ".py",
   "mimetype": "text/x-python",
   "name": "python",
   "nbconvert_exporter": "python",
   "pygments_lexer": "ipython3",
   "version": "3.7.4"
  }
 },
 "nbformat": 4,
 "nbformat_minor": 2
}